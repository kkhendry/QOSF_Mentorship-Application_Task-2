{
 "cells": [
  {
   "cell_type": "markdown",
   "id": "63dd6cf6-96f4-4802-abc8-37c963a0ce4a",
   "metadata": {
    "tags": []
   },
   "source": [
    "# QOSF Mentorship Application - Task 2\n",
    "## Karan Khendry - October 2021 Cohort"
   ]
  },
  {
   "cell_type": "markdown",
   "id": "54993c2b-ab45-4b68-82d7-6f8b3eded7c4",
   "metadata": {},
   "source": [
    "## Abstract\n",
    "\n",
    "This notebook presents solutions and extensions to Task 2 of the October 2021 QOSF (Quantum Open Source Foundation) Mentorship Application.\n",
    "\n",
    "Task 2 Description: Train a variational quantum circuit to transform 4 random 4-qubit input states to the following target states:\n",
    "\n",
    "|0011>\n",
    "|0101>\n",
    "|1010>\n",
    "|1100>\n",
    "\n",
    "The solutions presented below make use of the Qiskit open-source SDK and draws inspiration from [1] [\"A generative modeling approach for benchmarking and training shallow quantum circuits\"](https://www.nature.com/articles/s41534-019-0157-8.pdf). \n",
    "\n",
    "Section 1 builds up the overall problem structure and present a solution which uses a simplified version of the data driven approach taken in [1]. In section the problem structure, cost functions, gradient functions and optimizers are built without the use of any ML (Machine Learning) libraries such as Tensorflow or Pytorch. The optimizer and gradient fucntions have in built flexibility to allow for investigation of the best solution through hyperparameter tuning and gradient evaluation. The executed cells below present a finite different gradient descent approach using a TwoLocal ansatz made up of RX, RY and CX gates. The results of section 1 demonstrate a solution that performs the task fairly well but can certainly be improved through further investigation into the ansatz, gradient function and optimizer.\n",
    "\n",
    "Section 2 uses the basic problem structure from section 1 and attempts to implement some of Qiskit's more sophistaicated in-built gradient functions and optimizers. The results were not as successful as those in Section 1 and the running times experienced were significantly longer.\n",
    "\n",
    "Details of the approach and results are discussed below."
   ]
  },
  {
   "cell_type": "markdown",
   "id": "641e9aa4-54ec-492b-ace7-8be3c531467b",
   "metadata": {},
   "source": [
    "## Section 1\n",
    "\n",
    "### Basic Problem Structure and Solution\n",
    "\n",
    "Let's start by importing the required libraries to solve the task. This notebook's solution of Task 2 relies on Qiskit for the quantum computation and does not utilize any external libraries such as PyTorch or TensorFlow for the classical optimization."
   ]
  },
  {
   "cell_type": "code",
   "execution_count": 24,
   "id": "5d2df2c1-b3c5-40c5-ac1a-98d4e9feaaa5",
   "metadata": {},
   "outputs": [],
   "source": [
    "import qiskit\n",
    "from qiskit import*\n",
    "from qiskit import QuantumCircuit\n",
    "from qiskit import Aer\n",
    "from qiskit.circuit.library import RealAmplitudes\n",
    "from qiskit.circuit.library import TwoLocal\n",
    "from qiskit.visualization import plot_histogram\n",
    "import numpy as np\n",
    "import matplotlib \n",
    "import matplotlib.pyplot as plt"
   ]
  },
  {
   "cell_type": "markdown",
   "id": "63e63eda-7347-4b00-a9d3-1dbbc0bdf1e4",
   "metadata": {},
   "source": [
    "The following functions are defined to prepare the input and target states. They are designed to be general enough to generate n arbitrary n-qubit input and target states which will be explored after solving Task 2."
   ]
  },
  {
   "cell_type": "code",
   "execution_count": 25,
   "id": "02531520-b6b4-4829-b26a-e2d86e2ec51e",
   "metadata": {},
   "outputs": [],
   "source": [
    "def randomStatevectors(n_inputs, n_qubits):\n",
    "    statevectors = []\n",
    "    for i in range(n_inputs):\n",
    "        statevector = np.random.rand(2**n_qubits) + np.random.rand(2**n_qubits)*1j\n",
    "        statevector = statevector / np.linalg.norm(statevector)\n",
    "        statevectors.append(statevector)\n",
    "    return statevectors\n",
    "\n",
    "def initCircuits(statevectors, n_qubits):\n",
    "    initial_statevectors = []\n",
    "    initial_circuits = []\n",
    "    initial_counts = []\n",
    "    for statevector in statevectors:\n",
    "        initial_statevectors.append(statevector)\n",
    "        initial_circuit = QuantumCircuit(n_qubits)\n",
    "        initial_circuit.initialize(statevector)\n",
    "        initial_circuits.append(initial_circuit)\n",
    "        \n",
    "        circuit = initial_circuit.copy()\n",
    "        qasm_simulator = Aer.get_backend('qasm_simulator')\n",
    "        circuit.measure_all()\n",
    "        qasm_result = execute(circuit, backend=qasm_simulator).result()\n",
    "        initial_count = qasm_result.get_counts()\n",
    "        initial_counts.append(initial_count)\n",
    "        \n",
    "    return initial_statevectors, initial_circuits, initial_counts\n",
    "        \n",
    "def targetCircuit(target):\n",
    "    statevector_simulator = Aer.get_backend('statevector_simulator')\n",
    "    qasm_simulator = Aer.get_backend('qasm_simulator')\n",
    "    \n",
    "    target_circuit = QuantumCircuit(len(target))\n",
    "    for i in reversed(range(len(target))):\n",
    "        if target[i] == 1:\n",
    "            target_circuit.x(i)\n",
    "            \n",
    "    statevector_result = execute(target_circuit, backend=statevector_simulator).result()\n",
    "    target_statevector = statevector_result.get_statevector()\n",
    "    circuit = target_circuit.copy()\n",
    "    circuit.measure_all()\n",
    "    qasm_result = execute(circuit, backend=qasm_simulator).result()\n",
    "    target_count = qasm_result.get_counts()\n",
    "    return target_statevector, target_circuit, target_count\n",
    "\n",
    "def targetCircuits(targets):\n",
    "    target_circuits = []\n",
    "    target_statevectors = []\n",
    "    target_counts = []\n",
    "    for target in targets:\n",
    "        target_statevector, target_circuit, target_count = targetCircuit(target)\n",
    "        target_circuits.append(target_circuit)\n",
    "        target_statevectors.append(target_statevector)\n",
    "        target_counts.append(target_count)\n",
    "    return target_statevectors, target_circuits, target_counts"
   ]
  },
  {
   "cell_type": "markdown",
   "id": "b1a1fc35-9a5b-4dee-978f-3e7dba258cb7",
   "metadata": {},
   "source": [
    "Let's use these functions to set up Task 2. We will initially fix a random seed for reproducbility and proceed to create 4 random 4 qubit quantum states along with the target states defined above. The task is the create a create and train a quantum circuit which can transform our initial random states to the target states. Refer to the histogram below to visualize the probablity distribution of the initial and target states."
   ]
  },
  {
   "cell_type": "code",
   "execution_count": 26,
   "id": "f92582a6-0783-47ef-86e1-40795e3b768e",
   "metadata": {},
   "outputs": [
    {
     "data": {
      "image/png": "[encoded data removed]",
      "text/plain": [
       "<Figure size 504x360 with 1 Axes>"
      ]
     },
     "execution_count": 26,
     "metadata": {},
     "output_type": "execute_result"
    }
   ],
   "source": [
    "np.random.seed(161803)\n",
    "qasm_simulator = Aer.get_backend('qasm_simulator')\n",
    "n_qubits = 4\n",
    "n_inputs = 4\n",
    "\n",
    "random_statevectors = randomStatevectors(n_inputs, n_qubits)\n",
    "initial_statevectors, initial_circuits, initial_counts = initCircuits(random_statevectors, n_qubits)\n",
    "targets = [[0,0,1,1], [0,1,0,1], [1,0,1,0], [1,1,0,0]] #consider tabulating probz of all 16\n",
    "# targets = ['1100', '1010', '0101', '0011'] #consider tabulating probz of all 16\n",
    "target_statevectors, target_circuits, target_counts = targetCircuits(targets)\n",
    "plot_histogram([initial_counts[3],target_counts[0]], legend=['initial', 'target'])"
   ]
  },
  {
   "cell_type": "markdown",
   "id": "590bc6f4-008d-491d-b2fa-70b7fcfd5294",
   "metadata": {},
   "source": [
    "To create a variational circuit to solve task 2 we must do the following:\n",
    "1. Generate a parameterized quantum circuit (ansatz) to transform input states to outut states.\n",
    "2. Develop a cost function to compare the output states to the target states.\n",
    "3. Optimize the ansatz parameters to minimize the cost function.\n",
    "\n",
    "For step 1 we will need to initialize an ansatz, define a function to assign parameters to the ansatz and then generate an output circuit which is a composition of the encoded input state and the ansatz. The output distribution of this circuit will be estimated using Qiskit's QASM simulator which will be used to evalue the cost function as discussed later in this notebook. The following cell also includes a few possible ansatz which can be used to solve task 2."
   ]
  },
  {
   "cell_type": "code",
   "execution_count": 27,
   "id": "7fc01b32-006a-4f3e-8fe1-0b620121c3e0",
   "metadata": {},
   "outputs": [],
   "source": [
    "reps = 10\n",
    "# ansatz = RealAmplitudes(num_qubits=n_qubits, entanglement='full', reps=reps)\n",
    "ansatz = TwoLocal(n_qubits, ['rx', 'ry'], 'cx', 'full', reps=reps, insert_barriers=True)\n",
    "#     ansatz = TwoLocal(n_qubits, 'ry', 'cx', 'linear', reps=reps, insert_barriers=True)\n",
    "\n",
    "def paramCircuit(ansatz, parameters):\n",
    "    n_parameters = len(parameters)\n",
    "    for i in range(n_parameters):\n",
    "        ansatz.assign_parameters({ansatz.parameters[0]: parameters[i]}, inplace=True)\n",
    "    return ansatz\n",
    "\n",
    "def executeCircuits(initial_circuits, param_circuit):\n",
    "    output_statevectors = []\n",
    "    output_circuits = []\n",
    "    for i in range(len(initial_circuits)):\n",
    "        output_circuit = initial_circuits[i].compose(param_circuit.copy())\n",
    "        output_circuits.append(output_circuit)\n",
    "    return output_circuits"
   ]
  },
  {
   "cell_type": "markdown",
   "id": "9e05ff60-0e9b-4157-bd22-7f1412df73d1",
   "metadata": {},
   "source": [
    "Let's use the functions above to initialize an ansatz with random parameters and generate and visualize the initial output circuits."
   ]
  },
  {
   "cell_type": "code",
   "execution_count": 28,
   "id": "fd414e70-98fa-4b64-9b14-1fb3a87f1ebd",
   "metadata": {},
   "outputs": [],
   "source": [
    "# ansatz = RealAmplitudes(num_qubits=n_qubits, entanglement='full', reps=reps)\n",
    "ansatz = TwoLocal(n_qubits, ['rx', 'ry'], 'cx', 'full', reps=reps, insert_barriers=True)\n",
    "# ansatz = TwoLocal(n_qubits, 'ry', 'cx', 'linear', reps=reps, insert_barriers=True)\n",
    "\n",
    "parameters = np.random.normal(0, np.pi, len(ansatz.parameters))\n",
    "\n",
    "param_circuit = paramCircuit(ansatz, parameters)\n",
    "output_circuits = executeCircuits(initial_circuits, param_circuit)"
   ]
  },
  {
   "cell_type": "markdown",
   "id": "7d2efbe0-a4a2-4f48-abd9-9ad7f018fc84",
   "metadata": {},
   "source": [
    "Moving on to step 2; developing a cost function. The following functions are defined to generate a cost function inpsired from the paper [\"A generative modeling approach for benchmarking and training shallow quantum circuits\"](https://www.nature.com/articles/s41534-019-0157-8.pdf) which takes the approach of minimizing the Kulback-Leibler (KL) Divergence, $D_{KL}[P_\\mathcal{D}|P_\\theta]$, of the target distribution $P_\\mathcal{D}$ and the output distribution of the parameterized circuit $P_\\theta$. The paper equates this to estimating the following negative log-likelihood function: \n",
    "$$\\mathcal{C}(\\theta) = -\\frac{1}{D}\\sum^D_{d=1}{ln(max(\\epsilon,P_\\theta(x^{(d)})))}$$ where $P_\\theta(x^{(d)})$ is the probability of target state $x^(d)$ generated by the circuit paramterized by $\\theta$.\n",
    "\n",
    "$P_\\theta(x^{(d)})$ can be estimated using a data driven approach by calculating the likelihood of observing the expected target distribution ($P_\\mathcal{D}$) given the data generated from the circuit parameterize by $\\theta$ ($P_\\theta$).\n",
    "\n",
    "For this task we will utilize Qiskit's QASM simulator to calculate a simplified version of this likelihood estimation as the number of target state counts generated from the parameterized circuit over the number of counts from the target states generated by the target circuits."
   ]
  },
  {
   "cell_type": "code",
   "execution_count": 29,
   "id": "d4c4d255-7bef-4a17-a2d1-a38777a72ff4",
   "metadata": {},
   "outputs": [],
   "source": [
    "def distDiff(circuit, target, shots=1024):\n",
    "    target_key = \"\".join([str(t) for t in target[::-1]])\n",
    "    dist_circuit = circuit.copy()\n",
    "    dist_circuit.measure_all()\n",
    "    result = execute(dist_circuit, backend=qasm_simulator, shots=shots, seed_simulator = 3142, seed_transpiler = 3142).result().get_counts()\n",
    "    dist_diff = 0\n",
    "    for key in result.keys():\n",
    "         if target_key == key:\n",
    "            dist_diff = result[key]/shots   \n",
    "    return dist_diff"
   ]
  },
  {
   "cell_type": "markdown",
   "id": "5792845a-0ee5-4986-8193-f496ce68b722",
   "metadata": {},
   "source": [
    "Let's see what kind of difference value this function yields for the various input and target circuits. Alter the circuit indices below to estimate the difference values."
   ]
  },
  {
   "cell_type": "code",
   "execution_count": 30,
   "id": "a07843c2-b08c-424f-8038-28eb6823d7de",
   "metadata": {},
   "outputs": [
    {
     "name": "stdout",
     "output_type": "stream",
     "text": [
      "0.08203125\n"
     ]
    }
   ],
   "source": [
    "dist_diff = distDiff(initial_circuits[0], targets[0], shots=256)\n",
    "print(dist_diff)"
   ]
  },
  {
   "cell_type": "markdown",
   "id": "016b1544-8e6f-4596-8ac1-b89aec4f7c29",
   "metadata": {},
   "source": [
    "Now let's use this data driven difference likelihood estimation of $P_\\theta(x^{(d)})$ to generate our negative log-likelihood cost function: $$\\mathcal{C}(\\theta) = -\\frac{1}{D}\\sum^D_{d=1}{ln(max(\\epsilon,P_\\theta(x^{(d)})))}$$"
   ]
  },
  {
   "cell_type": "code",
   "execution_count": 31,
   "id": "f12d1e74-022b-4044-b254-d4239d346d22",
   "metadata": {},
   "outputs": [],
   "source": [
    "def costFunction(parameters):\n",
    "#     ansatz = RealAmplitudes(num_qubits=n_qubits, entanglement='full', reps=reps)\n",
    "    ansatz = TwoLocal(n_qubits, ['rx', 'ry'], 'cx', 'full', reps=reps, insert_barriers=True)\n",
    "#     ansatz = TwoLocal(n_qubits, 'ry', 'cx', 'linear', reps=reps, insert_barriers=True)\n",
    "\n",
    "    param_circuit = paramCircuit(ansatz, parameters)\n",
    "    output_circuits = executeCircuits(initial_circuits, ansatz)\n",
    "    cost = 0\n",
    "    eps = 0.01\n",
    "    for i, circuit in enumerate(output_circuits):\n",
    "        dist_diff = distDiff(circuit, targets[i], shots=256)\n",
    "        cost -= np.log(max(eps,dist_diff))\n",
    "    cost = cost/len(output_circuits)\n",
    "    return cost"
   ]
  },
  {
   "cell_type": "markdown",
   "id": "f637bd8d-2cb5-4b33-a8f6-6e34d020d134",
   "metadata": {},
   "source": [
    "Let's see the cost function in action and take a look at the cost of the input circuits against the target circuits."
   ]
  },
  {
   "cell_type": "code",
   "execution_count": 32,
   "id": "7bd48b31-fbfd-4995-a6ab-218e784fb3c0",
   "metadata": {},
   "outputs": [
    {
     "name": "stdout",
     "output_type": "stream",
     "text": [
      "3.9645110011112474\n"
     ]
    }
   ],
   "source": [
    "cost = costFunction(parameters)\n",
    "print(cost)"
   ]
  },
  {
   "cell_type": "markdown",
   "id": "f5f81c91-fb8c-4df4-95c3-befe88df14ac",
   "metadata": {},
   "source": [
    "Now we are ready for step 3; optimization to minimize the cost function. The following functions define a finite difference gradient descent optimizer which perturbs each circuit parameter by a decaying $\\delta$ shift with probability $\\epsilon$ to control the exploration of the cost function space. Each iteration of the optimizer is essentially performing the following:\n",
    "\n",
    "$$\\theta_{i+1} = \\theta_i - \\alpha\\frac{\\mathcal{f}(\\theta_{i+\\delta}) - \\mathcal{f}(\\theta_{i-\\delta})}{(2\\delta)}, r < \\epsilon$$, where $\\alpha$ is the learning rate, \n",
    "\n",
    "$\\mathcal{f}(\\theta)$ is the cost function, \n",
    "\n",
    "$\\delta$ is the parameter shift, \n",
    "\n",
    "$r$ is a random value and \n",
    "\n",
    "$\\epsilon$ is the probability of perturbing paramter $\\theta_i$."
   ]
  },
  {
   "cell_type": "code",
   "execution_count": 33,
   "id": "90e7dc9b-5438-4a4c-a1ad-7a909e60ca1c",
   "metadata": {},
   "outputs": [],
   "source": [
    "def gradientFunction(parameters, eps, d, lr):\n",
    "    finite_diffs = np.zeros(len(parameters))\n",
    "    for i in range(len(parameters)):\n",
    "        if np.random.rand(1)[0] < eps:\n",
    "            plus = parameters.copy()\n",
    "            minus = parameters.copy()\n",
    "            plus[i] += d\n",
    "            minus[i] -= d\n",
    "            cost_plus = costFunction(plus)\n",
    "            cost_minus = costFunction(minus)\n",
    "            finite_diffs[i] = lr*(cost_plus - cost_minus)/(2*eps)\n",
    "    new_params = parameters - finite_diffs       \n",
    "    return new_params\n",
    "\n",
    "def optimizer(parameters, lr=0.1, eps = 0.2, d=np.pi/4, max_iter=500):\n",
    "    best_cost = 10\n",
    "    loss = []\n",
    "    convergence_d = [10, 10, 10, 10, 10, 10]\n",
    "    for i in range(max_iter):\n",
    "        d = 0.992*d\n",
    "        parameters = gradientFunction(parameters, eps, d, lr)\n",
    "        cost = costFunction(parameters)\n",
    "        print(\"Iteration \" + str(i) + \": Cost = \" + str(cost))\n",
    "        loss.append(cost)\n",
    "        if cost < best_cost:\n",
    "            best_parameters = parameters\n",
    "            best_cost = cost\n",
    "\n",
    "        convergence_d.append(cost)\n",
    "        convergence_d.pop(0)\n",
    "\n",
    "        if np.std(convergence_d) < 0.001: #more sophisticated convergence crtieria to allows for small costs of sophisticated cost function\n",
    "            break\n",
    "        \n",
    "    return loss, best_cost, best_parameters"
   ]
  },
  {
   "cell_type": "markdown",
   "id": "19fb0150-ec10-4d42-83c2-ca2aee035fdf",
   "metadata": {},
   "source": [
    "And finally let's put it all together and evaluate the performance. The loss convergence plot and histogram below show that the input circuits have been trained to have a significantly higher proabability of generating the target states. Try changing the index of the histogram list below to see how the other input states performed."
   ]
  },
  {
   "cell_type": "code",
   "execution_count": 34,
   "id": "e69513c0-5ed5-4ba4-a4dd-b79f75cf72da",
   "metadata": {
    "scrolled": true,
    "tags": []
   },
   "outputs": [
    {
     "name": "stdout",
     "output_type": "stream",
     "text": [
      "Iteration 0: Cost = 3.0365484907439293\n",
      "Iteration 1: Cost = 2.6969123787021827\n",
      "Iteration 2: Cost = 2.5544703388523224\n",
      "Iteration 3: Cost = 2.4484979949937666\n",
      "Iteration 4: Cost = 2.0846731609586495\n",
      "Iteration 5: Cost = 1.81771300345831\n",
      "Iteration 6: Cost = 1.57240678876314\n",
      "Iteration 7: Cost = 1.5912712542212875\n",
      "Iteration 8: Cost = 1.4311231877292394\n",
      "Iteration 9: Cost = 1.3230777310684712\n",
      "Iteration 10: Cost = 1.3397326621612746\n",
      "Iteration 11: Cost = 1.2980454502652963\n",
      "Iteration 12: Cost = 1.2560587435622113\n",
      "Iteration 13: Cost = 1.153263857783331\n",
      "Iteration 14: Cost = 1.0948807149951874\n",
      "Iteration 15: Cost = 1.0625059339456238\n",
      "Iteration 16: Cost = 1.0136566206521018\n",
      "Iteration 17: Cost = 0.9974713288308664\n",
      "Iteration 18: Cost = 0.9898953887045854\n",
      "Iteration 19: Cost = 0.9113425584135455\n",
      "Iteration 20: Cost = 0.921593919855201\n",
      "Iteration 21: Cost = 0.8927127590938608\n",
      "Iteration 22: Cost = 0.890781544475976\n",
      "Iteration 23: Cost = 0.8678088948320349\n",
      "Iteration 24: Cost = 0.8492405961417857\n",
      "Iteration 25: Cost = 0.8192807499711853\n",
      "Iteration 26: Cost = 0.8275484567277811\n",
      "Iteration 27: Cost = 0.8127777471177439\n",
      "Iteration 28: Cost = 0.8083133427677422\n",
      "Iteration 29: Cost = 0.808143216868016\n",
      "Iteration 30: Cost = 0.8120679715507808\n",
      "Iteration 31: Cost = 0.800766751033436\n",
      "Iteration 32: Cost = 0.787092978872932\n",
      "Iteration 33: Cost = 0.7902698271295173\n",
      "Iteration 34: Cost = 0.7820854635135319\n",
      "Iteration 35: Cost = 0.7786709125428478\n",
      "Iteration 36: Cost = 0.779492485633435\n",
      "Iteration 37: Cost = 0.773255538347553\n",
      "Iteration 38: Cost = 0.773255538347553\n",
      "Iteration 39: Cost = 0.75785165182595\n",
      "Iteration 40: Cost = 0.7582742846388534\n",
      "Iteration 41: Cost = 0.7461216787172154\n",
      "Iteration 42: Cost = 0.7464939796050823\n",
      "Iteration 43: Cost = 0.7377711971211532\n",
      "Iteration 44: Cost = 0.7368816802021109\n",
      "Iteration 45: Cost = 0.7216197006086538\n",
      "Iteration 46: Cost = 0.7222792782870863\n",
      "Iteration 47: Cost = 0.7244252142099341\n",
      "Iteration 48: Cost = 0.7138777846950499\n",
      "Iteration 49: Cost = 0.7137109066433291\n",
      "Iteration 50: Cost = 0.7166244197467555\n",
      "Iteration 51: Cost = 0.7107755221296278\n",
      "Iteration 52: Cost = 0.7106086440779071\n",
      "Iteration 53: Cost = 0.7067023146021368\n",
      "Iteration 54: Cost = 0.7065139704076827\n",
      "Iteration 55: Cost = 0.6908046999487809\n",
      "Iteration 56: Cost = 0.6816829719819408\n",
      "Iteration 57: Cost = 0.6816806768773989\n",
      "Iteration 58: Cost = 0.6838640968695875\n",
      "Iteration 59: Cost = 0.6836414712426553\n",
      "Iteration 60: Cost = 0.6797934475115407\n",
      "Iteration 61: Cost = 0.6715784604483888\n",
      "Iteration 62: Cost = 0.6803621856876804\n",
      "Iteration 63: Cost = 0.6690359926162901\n",
      "Iteration 64: Cost = 0.6728972459131962\n",
      "Iteration 65: Cost = 0.6674267537038863\n",
      "Iteration 66: Cost = 0.676428494952171\n",
      "Iteration 67: Cost = 0.6656705697703214\n",
      "Iteration 68: Cost = 0.6635862026201034\n",
      "Iteration 69: Cost = 0.6578825331785605\n",
      "Iteration 70: Cost = 0.6559062383017822\n",
      "Iteration 71: Cost = 0.6558322453453715\n",
      "Iteration 72: Cost = 0.6520727760042364\n",
      "Iteration 73: Cost = 0.6445553132193321\n",
      "Iteration 74: Cost = 0.6438877560803624\n",
      "Iteration 75: Cost = 0.6443618576728841\n",
      "Iteration 76: Cost = 0.6384427107815674\n",
      "Iteration 77: Cost = 0.6404035051468239\n",
      "Iteration 78: Cost = 0.6403295121904132\n",
      "Iteration 79: Cost = 0.6368033606450276\n",
      "Iteration 80: Cost = 0.636672092592655\n",
      "Iteration 81: Cost = 0.6347112982273986\n",
      "Iteration 82: Cost = 0.633507493374674\n",
      "Iteration 83: Cost = 0.6330927432606961\n",
      "Iteration 84: Cost = 0.6334917458391581\n",
      "Iteration 85: Cost = 0.6315154509623798\n",
      "Iteration 86: Cost = 0.6315154509623798\n",
      "Iteration 87: Cost = 0.6260109584669462\n",
      "Iteration 88: Cost = 0.629948047708981\n",
      "Iteration 89: Cost = 0.6300950632968696\n",
      "Iteration 90: Cost = 0.6279872533437246\n",
      "Iteration 91: Cost = 0.6203736272542659\n",
      "Iteration 92: Cost = 0.6136849942500591\n",
      "Iteration 93: Cost = 0.6157295308610321\n",
      "Iteration 94: Cost = 0.6042042796749841\n",
      "Iteration 95: Cost = 0.6005733754069233\n",
      "Iteration 96: Cost = 0.5989109179465381\n",
      "Iteration 97: Cost = 0.597118795576885\n",
      "Iteration 98: Cost = 0.595589738822526\n",
      "Iteration 99: Cost = 0.595589738822526\n",
      "Iteration 100: Cost = 0.5975141433265951\n",
      "Iteration 101: Cost = 0.5973818611921791\n",
      "Iteration 102: Cost = 0.5991869231855509\n",
      "Iteration 103: Cost = 0.5973818611921791\n",
      "Iteration 104: Cost = 0.595589738822526\n",
      "Iteration 105: Cost = 0.5973818611921791\n",
      "Iteration 106: Cost = 0.5938103718803099\n",
      "Iteration 107: Cost = 0.5920435800745368\n",
      "Iteration 108: Cost = 0.5938103718803099\n",
      "Iteration 109: Cost = 0.5938103718803099\n",
      "Iteration 110: Cost = 0.5924731968370648\n",
      "Iteration 111: Cost = 0.5942275900017264\n"
     ]
    }
   ],
   "source": [
    "# ansatz = RealAmplitudes(num_qubits=n_qubits, entanglement='full', reps=reps)\n",
    "ansatz = TwoLocal(n_qubits, ['rx', 'ry'], 'cx', 'full', reps=reps, insert_barriers=True)\n",
    "# ansatz = TwoLocal(n_qubits, 'ry', 'cx', 'linear', reps=reps, insert_barriers=True)\n",
    "\n",
    "parameters = np.random.normal(0, np.pi, len(ansatz.parameters))\n",
    "\n",
    "loss, best_cost, best_parameters = optimizer(parameters, lr=0.1, eps=0.1, d=np.pi/2, max_iter=200)"
   ]
  },
  {
   "cell_type": "code",
   "execution_count": 35,
   "id": "a91b5616-ded2-422a-9a48-8b2dda0c5d66",
   "metadata": {},
   "outputs": [
    {
     "data": {
      "text/plain": [
       "[<matplotlib.lines.Line2D at 0x1f2966314f0>]"
      ]
     },
     "execution_count": 35,
     "metadata": {},
     "output_type": "execute_result"
    },
    {
     "data": {
      "image/png": "[encoded data removed]",
      "text/plain": [
       "<Figure size 432x288 with 1 Axes>"
      ]
     },
     "metadata": {
      "needs_background": "light"
     },
     "output_type": "display_data"
    }
   ],
   "source": [
    "plt.plot(loss)"
   ]
  },
  {
   "cell_type": "code",
   "execution_count": 36,
   "id": "4ada97f8-4449-48fe-b40e-123f5db7f7b8",
   "metadata": {},
   "outputs": [],
   "source": [
    "# ansatz = RealAmplitudes(num_qubits=n_qubits, entanglement='full', reps=reps)\n",
    "ansatz = TwoLocal(n_qubits, ['rx', 'ry'], 'cx', 'full', reps=reps, insert_barriers=True)\n",
    "# ansatz = TwoLocal(n_qubits, 'ry', 'cx', 'linear', reps=reps, insert_barriers=True)\n",
    "\n",
    "histograms = []\n",
    "param_circuit = paramCircuit(ansatz, best_parameters)\n",
    "circuits = executeCircuits(initial_circuits, param_circuit)\n",
    "\n",
    "targets = [[0,0,1,1], [0,1,0,1], [1,0,1,0], [1,1,0,0]]\n",
    "target_statevectors, target_circuits, target_counts = targetCircuits(targets)\n",
    "\n",
    "for i, circuit in enumerate(circuits):\n",
    "    circuit.measure_all()\n",
    "    shots = 1024\n",
    "    qasm_simulator = Aer.get_backend('qasm_simulator')\n",
    "    result = execute(circuit, backend=qasm_simulator, shots=shots, seed_simulator = 3142, seed_transpiler = 3142).result().get_counts()\n",
    "    histograms.append(plot_histogram([result, target_counts[i]]))"
   ]
  },
  {
   "cell_type": "code",
   "execution_count": 37,
   "id": "b92bb348-bee0-45c1-a75b-a79f1678b9fd",
   "metadata": {},
   "outputs": [],
   "source": [
    "targets = [[0,0,1,1], [0,1,0,1], [1,0,1,0], [1,1,0,0]]\n",
    "target_statevectors, target_circuits, target_counts = targetCircuits(targets)\n",
    "\n",
    "for i, circuit in enumerate(circuits):\n",
    "    circuit.measure_all()\n",
    "    shots = 1024\n",
    "    qasm_simulator = Aer.get_backend('qasm_simulator')\n",
    "    result = execute(circuit, backend=qasm_simulator, shots=shots, seed_simulator = 3142, seed_transpiler = 3142).result().get_counts()\n",
    "    histograms.append(plot_histogram([result, target_counts[i]]))"
   ]
  },
  {
   "cell_type": "code",
   "execution_count": 44,
   "id": "1398298f-ae50-481f-a4e5-c7b99aa213df",
   "metadata": {},
   "outputs": [
    {
     "data": {
      "image/png": "[encoded data removed]",
      "text/plain": [
       "<Figure size 504x360 with 1 Axes>"
      ]
     },
     "execution_count": 44,
     "metadata": {},
     "output_type": "execute_result"
    }
   ],
   "source": [
    "histograms[1]"
   ]
  },
  {
   "cell_type": "markdown",
   "id": "3f4cc88e-aae4-435d-b8c1-2e6f1a03e428",
   "metadata": {},
   "source": [
    "That's not too bad. We were able to train a Two Local Ansatz with 10 repetitions to output the target states of the problem 50-60% of the time using the finite difference gradient descent optimizer above.\n",
    "\n",
    "Now with this basic structure let's utilize some of Qiskit's in-built operator, gradient and machine learning tools to see if we can improve performance with more sophisticated techniques. \n",
    "\n",
    "## Section 2\n",
    "\n",
    "### Encoding the Cost Function in Hamiltonian Operators and Utilizing Qiskit's Gradient and Optimization Functions\n",
    "\n",
    "Firstly, instead of runnning a QASM simulator and computing our simplified cost function, we will encode the our circuit's expecation values into Hamiltonian Observable operators of interest. Since our target states are expressed in the $Z \\otimes Z \\otimes Z \\otimes Z$ basis, we will define functions to utilize this Hamiltonian Observable to express our expected values in the basis of interest. We also need to import the relevent Qiskit libraries."
   ]
  },
  {
   "cell_type": "code",
   "execution_count": 45,
   "id": "ea7eeafa-a73e-4f2b-8a8c-9d807211e6a8",
   "metadata": {},
   "outputs": [],
   "source": [
    "from qiskit.circuit.library import RealAmplitudes\n",
    "from qiskit import Aer\n",
    "from qiskit.utils import QuantumInstance\n",
    "from qiskit.opflow import Z, I\n",
    "from qiskit.opflow import StateFn\n",
    "from qiskit.opflow import CircuitStateFn\n",
    "from qiskit.opflow import Gradient, NaturalGradient\n",
    "from qiskit.quantum_info.operators import Operator, Pauli\n",
    "from qiskit.algorithms.optimizers import SPSA\n",
    "from qiskit.opflow import PauliExpectation, CircuitSampler\n",
    "from qiskit.algorithms.optimizers.gradient_descent import GradientDescent\n",
    "from qiskit.algorithms.optimizers import SPSA\n",
    "\n",
    "hamiltonian = Z ^ Z ^ Z ^ Z"
   ]
  },
  {
   "cell_type": "markdown",
   "id": "af418306-b391-4a68-9a0e-7ff0633b0a0c",
   "metadata": {},
   "source": [
    "Now we re-frame the cost function in terms of the expectation values captured by the Hamiltonian observable. \n",
    "\n",
    "As discussed above, the first step is the evaluate, $P_\\theta(x^{(d)})$, the probability that target state $x^{(d)}$ is generated by the circuit paramterized by $\\theta$. For this approach, we will express $P_\\theta(x^{(d)})$ term as the difference between the expectation of the output circuits and the target circuits. We then calculate the cost function $\\mathcal{C}(\\theta) = -\\frac{1}{D}\\sum^D_{d=1}{P_\\theta(x^{(d)})}$."
   ]
  },
  {
   "cell_type": "code",
   "execution_count": 73,
   "id": "2e5e4d96-d686-4f48-867f-0d4031a1b4c2",
   "metadata": {},
   "outputs": [],
   "source": [
    "def h_costFunction(parameters):\n",
    "    costs = 0\n",
    "    for i in range(len(initial_circuits)):\n",
    "        output_circuit = initial_circuits[i].compose(ansatz)\n",
    "        target_circuit = target_circuits[i]\n",
    "        output_expectation = StateFn(hamiltonian, is_measurement=True)@StateFn(output_circuit)\n",
    "        target_expectation = StateFn(hamiltonian, is_measurement=True)@StateFn(target_circuit)\n",
    "        cost_op = target_expectation - output_expectation\n",
    "#         pauli_cost = PauliExpectation().convert(cost_op)\n",
    "        value_dict = dict(zip(ansatz.parameters, parameters))\n",
    "        cost = sampler.convert(cost_op, params=value_dict).eval() \n",
    "        costs += cost\n",
    "    return np.abs(costs)"
   ]
  },
  {
   "cell_type": "markdown",
   "id": "90fb3649-4a42-4023-b234-bad37ada4818",
   "metadata": {},
   "source": [
    "Using the new cost function we can calculate the gradients of the cost function with respect to the circuit parameters to feed into a gradient descent optimizer."
   ]
  },
  {
   "cell_type": "code",
   "execution_count": 88,
   "id": "0dd952f3-a84b-4463-8276-6098fc48c82d",
   "metadata": {},
   "outputs": [],
   "source": [
    "def h_gradientFunction(parameters):\n",
    "    param_grads = []\n",
    "    value_dict = dict(zip(ansatz.parameters, parameters))\n",
    "    for i in range(len(initial_circuits)):\n",
    "        output_circuit = initial_circuits[i].compose(ansatz)\n",
    "        target_circuit = target_circuits[i]\n",
    "        output_expectation = StateFn(hamiltonian, is_measurement=True)@StateFn(output_circuit)\n",
    "        target_expectation = StateFn(hamiltonian, is_measurement=True)@StateFn(target_circuit)\n",
    "        cost_op = target_expectation - output_expectation\n",
    "        grad = Gradient(grad_method=\"param_shift\").convert(cost_op)\n",
    "#         grad = NaturalGradient(grad_method='param_shift', qfi_method='lin_comb_full', regularization=None).convert(cost_op)\n",
    "#         grad = sampler.convert(grad, params=value_dict).eval()\n",
    "        param_grad = np.abs(grad.assign_parameters(value_dict).eval())\n",
    "        param_grads.append(param_grad)\n",
    "    mean_param_grads = np.mean(param_grads)\n",
    "#     new_parameters = list(value_dict.values()) + 0.01*mean_param_grads\n",
    "#     return new_parameters\n",
    "    return mean_param_grads"
   ]
  },
  {
   "cell_type": "markdown",
   "id": "8804bb72-3801-4115-9535-a7812bf58a9f",
   "metadata": {},
   "source": [
    "Now we are ready to solve the problem. Let's re-initialize the problem and set up a gradient descent and SPSA optimizer and review the results."
   ]
  },
  {
   "cell_type": "code",
   "execution_count": 89,
   "id": "f6f07134-9950-4c1f-8f01-8824524984d5",
   "metadata": {},
   "outputs": [],
   "source": [
    "np.random.seed(161803)\n",
    "n_qubits = 4\n",
    "n_inputs = 4\n",
    "\n",
    "reps=1\n",
    "ansatz = RealAmplitudes(num_qubits=n_qubits, entanglement='full', reps=reps)\n",
    "# ansatz = TwoLocal(n_qubits, ['rx', 'ry'], 'cx', 'full', reps=reps, insert_barriers=True)\n",
    "# ansatz = TwoLocal(n_qubits, 'ry', 'cx', 'linear', reps=reps, insert_barriers=True)\n",
    "\n",
    "random_statevectors = randomStatevectors(n_inputs, n_qubits)\n",
    "initial_statevectors, initial_circuits, initial_counts = initCircuits(random_statevectors, n_qubits)\n",
    "targets = [[0,0,1,1], [0,1,0,1], [1,0,1,0], [1,1,0,0]]\n",
    "target_statevectors, target_circuits, target_counts = targetCircuits(targets)\n",
    "\n",
    "q_instance = QuantumInstance(backend=qasm_simulator, shots = 256, seed_simulator = 2718, seed_transpiler = 2718)\n",
    "sampler = CircuitSampler(q_instance)\n",
    "\n",
    "parameters = np.random.normal(0, np.pi, len(ansatz.parameters))"
   ]
  },
  {
   "cell_type": "code",
   "execution_count": null,
   "id": "96d22774-9d7c-4160-a52b-4954dac60543",
   "metadata": {
    "scrolled": true,
    "tags": []
   },
   "outputs": [],
   "source": [
    "from qiskit.algorithms.optimizers.gradient_descent import GradientDescent\n",
    "\n",
    "gd_loss = []\n",
    "def gd_callback(nfevs, x, fx, stepsize):\n",
    "    gd_loss.append(fx)\n",
    "    print(\"Iteration \" + str(nfevs) + \": Cost = \" + str(fx))\n",
    "    \n",
    "gd = GradientDescent(maxiter=100, learning_rate=0.01, callback=gd_callback)\n",
    "\n",
    "best_parameters, best_cost, nfevs = gd.optimize(parameters.size, h_costFunction, gradient_function=h_gradientFunction, initial_point=parameters)"
   ]
  },
  {
   "cell_type": "code",
   "execution_count": 76,
   "id": "732d5f51-85e9-4b01-9f31-1299308037b3",
   "metadata": {
    "scrolled": true,
    "tags": []
   },
   "outputs": [
    {
     "name": "stdout",
     "output_type": "stream",
     "text": [
      "Iteration 3: Cost = 4.4609375\n",
      "Iteration 6: Cost = 4.3203125\n",
      "Iteration 9: Cost = 4.3203125\n",
      "Iteration 12: Cost = 4.3046875\n",
      "Iteration 15: Cost = 3.953125\n",
      "Iteration 18: Cost = 3.875\n",
      "Iteration 21: Cost = 3.7578125\n",
      "Iteration 24: Cost = 3.34375\n",
      "Iteration 27: Cost = 3.3125\n",
      "Iteration 30: Cost = 3.2734375\n",
      "Iteration 33: Cost = 3.25\n",
      "Iteration 36: Cost = 2.8515625\n",
      "Iteration 39: Cost = 2.875\n",
      "Iteration 42: Cost = 2.828125\n",
      "Iteration 45: Cost = 2.828125\n",
      "Iteration 48: Cost = 2.71875\n",
      "Iteration 51: Cost = 2.703125\n",
      "Iteration 54: Cost = 2.71875\n",
      "Iteration 57: Cost = 2.6796875\n",
      "Iteration 60: Cost = 2.625\n",
      "Iteration 63: Cost = 2.5859375\n",
      "Iteration 66: Cost = 2.578125\n",
      "Iteration 69: Cost = 2.453125\n",
      "Iteration 72: Cost = 2.3359375\n",
      "Iteration 75: Cost = 2.28125\n",
      "Iteration 78: Cost = 2.2890625\n",
      "Iteration 81: Cost = 2.2578125\n",
      "Iteration 84: Cost = 1.9921875\n",
      "Iteration 87: Cost = 1.9609375\n",
      "Iteration 90: Cost = 1.9140625\n",
      "Iteration 93: Cost = 1.9296875\n",
      "Iteration 96: Cost = 1.9296875\n",
      "Iteration 99: Cost = 1.921875\n",
      "Iteration 102: Cost = 1.875\n",
      "Iteration 105: Cost = 1.78125\n",
      "Iteration 108: Cost = 1.7578125\n",
      "Iteration 111: Cost = 1.7265625\n",
      "Iteration 114: Cost = 1.734375\n",
      "Iteration 117: Cost = 1.65625\n",
      "Iteration 120: Cost = 1.6484375\n",
      "Iteration 123: Cost = 1.640625\n",
      "Iteration 126: Cost = 1.609375\n",
      "Iteration 129: Cost = 1.6015625\n",
      "Iteration 132: Cost = 1.59375\n",
      "Iteration 135: Cost = 1.5703125\n",
      "Iteration 138: Cost = 1.53125\n",
      "Iteration 141: Cost = 1.5234375\n",
      "Iteration 144: Cost = 1.53125\n",
      "Iteration 147: Cost = 1.5\n",
      "Iteration 150: Cost = 1.4921875\n",
      "Iteration 153: Cost = 1.484375\n",
      "Iteration 156: Cost = 1.46875\n",
      "Iteration 159: Cost = 1.4609375\n",
      "Iteration 162: Cost = 1.453125\n",
      "Iteration 165: Cost = 1.453125\n",
      "Iteration 168: Cost = 1.3984375\n",
      "Iteration 171: Cost = 1.3671875\n",
      "Iteration 174: Cost = 1.359375\n",
      "Iteration 177: Cost = 1.328125\n",
      "Iteration 180: Cost = 1.328125\n",
      "Iteration 183: Cost = 1.3359375\n",
      "Iteration 186: Cost = 1.296875\n",
      "Iteration 189: Cost = 1.3203125\n",
      "Iteration 192: Cost = 1.3203125\n",
      "Iteration 195: Cost = 1.359375\n",
      "Iteration 198: Cost = 1.3671875\n",
      "Iteration 201: Cost = 1.265625\n",
      "Iteration 204: Cost = 1.2109375\n",
      "Iteration 207: Cost = 1.234375\n",
      "Iteration 210: Cost = 1.25\n",
      "Iteration 213: Cost = 1.2421875\n",
      "Iteration 216: Cost = 1.1640625\n",
      "Iteration 219: Cost = 1.1796875\n",
      "Iteration 222: Cost = 1.046875\n",
      "Iteration 225: Cost = 1.0625\n",
      "Iteration 228: Cost = 1.0625\n",
      "Iteration 231: Cost = 0.984375\n",
      "Iteration 234: Cost = 0.8749999999999999\n",
      "Iteration 237: Cost = 0.859375\n",
      "Iteration 240: Cost = 0.8828124999999999\n",
      "Iteration 243: Cost = 0.8749999999999999\n",
      "Iteration 246: Cost = 0.9062499999999999\n",
      "Iteration 249: Cost = 0.8671874999999999\n",
      "Iteration 252: Cost = 0.859375\n",
      "Iteration 255: Cost = 0.8359375\n",
      "Iteration 258: Cost = 0.8203124999999999\n",
      "Iteration 261: Cost = 0.7890625\n",
      "Iteration 264: Cost = 0.796875\n",
      "Iteration 267: Cost = 0.765625\n",
      "Iteration 270: Cost = 0.8046875\n",
      "Iteration 273: Cost = 0.8125\n",
      "Iteration 276: Cost = 0.8125\n",
      "Iteration 279: Cost = 0.8046874999999999\n",
      "Iteration 282: Cost = 0.8203125\n",
      "Iteration 285: Cost = 0.7734374999999998\n",
      "Iteration 288: Cost = 0.7968749999999998\n",
      "Iteration 291: Cost = 0.7578125\n",
      "Iteration 294: Cost = 0.75\n",
      "Iteration 297: Cost = 0.7578125\n",
      "Iteration 300: Cost = 0.7578125\n",
      "Iteration 303: Cost = 0.7109374999999999\n",
      "Iteration 306: Cost = 0.7265624999999999\n",
      "Iteration 309: Cost = 0.734375\n",
      "Iteration 312: Cost = 0.6640625000000001\n",
      "Iteration 315: Cost = 0.6875000000000001\n",
      "Iteration 318: Cost = 0.6484375000000001\n",
      "Iteration 321: Cost = 0.6328125000000001\n",
      "Iteration 324: Cost = 0.6328125000000001\n",
      "Iteration 327: Cost = 0.6406250000000001\n",
      "Iteration 330: Cost = 0.6328125000000001\n",
      "Iteration 333: Cost = 0.6406250000000001\n",
      "Iteration 336: Cost = 0.6484375000000001\n",
      "Iteration 339: Cost = 0.6718750000000001\n",
      "Iteration 342: Cost = 0.65625\n",
      "Iteration 345: Cost = 0.65625\n",
      "Iteration 348: Cost = 0.6484375\n",
      "Iteration 351: Cost = 0.6562500000000001\n",
      "Iteration 354: Cost = 0.6484375\n",
      "Iteration 357: Cost = 0.65625\n",
      "Iteration 360: Cost = 0.6484375000000001\n",
      "Iteration 363: Cost = 0.640625\n",
      "Iteration 366: Cost = 0.6796875\n",
      "Iteration 369: Cost = 0.6796875\n",
      "Iteration 372: Cost = 0.671875\n",
      "Iteration 375: Cost = 0.6953125\n",
      "Iteration 378: Cost = 0.6874999999999999\n",
      "Iteration 381: Cost = 0.6953124999999999\n",
      "Iteration 384: Cost = 0.6953125\n",
      "Iteration 387: Cost = 0.6875\n",
      "Iteration 390: Cost = 0.6640625\n",
      "Iteration 393: Cost = 0.6640625\n",
      "Iteration 396: Cost = 0.65625\n",
      "Iteration 399: Cost = 0.6640625\n",
      "Iteration 402: Cost = 0.671875\n",
      "Iteration 405: Cost = 0.6484374999999999\n",
      "Iteration 408: Cost = 0.6484375\n",
      "Iteration 411: Cost = 0.640625\n",
      "Iteration 414: Cost = 0.6484375\n",
      "Iteration 417: Cost = 0.6484375\n",
      "Iteration 420: Cost = 0.640625\n",
      "Iteration 423: Cost = 0.6328125\n",
      "Iteration 426: Cost = 0.6328125\n",
      "Iteration 429: Cost = 0.65625\n",
      "Iteration 432: Cost = 0.6484375\n",
      "Iteration 435: Cost = 0.6484375\n",
      "Iteration 438: Cost = 0.640625\n",
      "Iteration 441: Cost = 0.640625\n",
      "Iteration 444: Cost = 0.6640625\n",
      "Iteration 447: Cost = 0.65625\n",
      "Iteration 450: Cost = 0.65625\n",
      "Iteration 453: Cost = 0.65625\n",
      "Iteration 456: Cost = 0.65625\n",
      "Iteration 459: Cost = 0.65625\n",
      "Iteration 462: Cost = 0.6640625\n",
      "Iteration 465: Cost = 0.6640625\n",
      "Iteration 468: Cost = 0.6640625\n",
      "Iteration 471: Cost = 0.6640625\n",
      "Iteration 474: Cost = 0.65625\n",
      "Iteration 477: Cost = 0.6640624999999999\n",
      "Iteration 480: Cost = 0.6640625\n",
      "Iteration 483: Cost = 0.6406249999999999\n",
      "Iteration 486: Cost = 0.6718749999999999\n",
      "Iteration 489: Cost = 0.6484374999999999\n",
      "Iteration 492: Cost = 0.6640624999999999\n",
      "Iteration 495: Cost = 0.6640624999999999\n",
      "Iteration 498: Cost = 0.6640624999999999\n",
      "Iteration 501: Cost = 0.6640624999999999\n",
      "Iteration 504: Cost = 0.6562499999999999\n",
      "Iteration 507: Cost = 0.6484374999999999\n",
      "Iteration 510: Cost = 0.6484374999999999\n",
      "Iteration 513: Cost = 0.6484374999999999\n",
      "Iteration 516: Cost = 0.6562499999999999\n",
      "Iteration 519: Cost = 0.65625\n",
      "Iteration 522: Cost = 0.65625\n",
      "Iteration 525: Cost = 0.65625\n",
      "Iteration 528: Cost = 0.6640624999999999\n",
      "Iteration 531: Cost = 0.6562500000000001\n",
      "Iteration 534: Cost = 0.6484375\n",
      "Iteration 537: Cost = 0.6406250000000001\n",
      "Iteration 540: Cost = 0.6484375000000001\n",
      "Iteration 543: Cost = 0.6484375000000001\n",
      "Iteration 546: Cost = 0.6484375000000001\n",
      "Iteration 549: Cost = 0.6406250000000001\n",
      "Iteration 552: Cost = 0.6484375000000001\n",
      "Iteration 555: Cost = 0.6562500000000001\n",
      "Iteration 558: Cost = 0.65625\n",
      "Iteration 561: Cost = 0.6640625\n",
      "Iteration 564: Cost = 0.6484375000000001\n",
      "Iteration 567: Cost = 0.6406250000000001\n",
      "Iteration 570: Cost = 0.6484375\n",
      "Iteration 573: Cost = 0.6562500000000001\n",
      "Iteration 576: Cost = 0.6562500000000001\n",
      "Iteration 579: Cost = 0.6484375\n",
      "Iteration 582: Cost = 0.6328125\n",
      "Iteration 585: Cost = 0.65625\n",
      "Iteration 588: Cost = 0.65625\n",
      "Iteration 591: Cost = 0.6406250000000001\n",
      "Iteration 594: Cost = 0.6328125000000001\n",
      "Iteration 597: Cost = 0.640625\n",
      "Iteration 600: Cost = 0.6562500000000001\n",
      "Iteration 603: Cost = 0.6640625000000001\n",
      "Iteration 606: Cost = 0.6640625000000001\n",
      "Iteration 609: Cost = 0.6640625000000001\n",
      "Iteration 612: Cost = 0.6406250000000001\n",
      "Iteration 615: Cost = 0.6250000000000001\n",
      "Iteration 618: Cost = 0.6171875000000001\n",
      "Iteration 621: Cost = 0.6406250000000001\n",
      "Iteration 624: Cost = 0.6328125000000001\n",
      "Iteration 627: Cost = 0.65625\n",
      "Iteration 630: Cost = 0.6484375\n",
      "Iteration 633: Cost = 0.6484375\n",
      "Iteration 636: Cost = 0.65625\n",
      "Iteration 639: Cost = 0.6484375\n",
      "Iteration 642: Cost = 0.6484375\n",
      "Iteration 645: Cost = 0.65625\n",
      "Iteration 648: Cost = 0.65625\n",
      "Iteration 651: Cost = 0.6406250000000001\n",
      "Iteration 654: Cost = 0.6484375000000001\n",
      "Iteration 657: Cost = 0.6406250000000001\n",
      "Iteration 660: Cost = 0.6406250000000001\n",
      "Iteration 663: Cost = 0.6640625000000001\n",
      "Iteration 666: Cost = 0.6484375000000001\n",
      "Iteration 669: Cost = 0.6562500000000001\n",
      "Iteration 672: Cost = 0.6562500000000001\n",
      "Iteration 675: Cost = 0.6718750000000001\n",
      "Iteration 678: Cost = 0.6718750000000001\n",
      "Iteration 681: Cost = 0.6718750000000001\n",
      "Iteration 684: Cost = 0.6796875000000001\n",
      "Iteration 687: Cost = 0.6796875000000001\n",
      "Iteration 690: Cost = 0.6796875000000001\n",
      "Iteration 693: Cost = 0.6796875000000001\n",
      "Iteration 696: Cost = 0.6796875000000001\n",
      "Iteration 699: Cost = 0.6640625000000001\n",
      "Iteration 702: Cost = 0.6718750000000001\n",
      "Iteration 705: Cost = 0.6640625000000001\n",
      "Iteration 708: Cost = 0.6640625000000001\n",
      "Iteration 711: Cost = 0.6640625000000001\n",
      "Iteration 714: Cost = 0.6796875000000001\n",
      "Iteration 717: Cost = 0.6718750000000001\n",
      "Iteration 720: Cost = 0.6718750000000001\n",
      "Iteration 723: Cost = 0.6874999999999999\n",
      "Iteration 726: Cost = 0.6718750000000001\n",
      "Iteration 729: Cost = 0.6953125000000001\n",
      "Iteration 732: Cost = 0.6796875000000001\n",
      "Iteration 735: Cost = 0.6640625000000001\n",
      "Iteration 738: Cost = 0.6718750000000001\n",
      "Iteration 741: Cost = 0.6718750000000001\n",
      "Iteration 744: Cost = 0.6640625000000001\n",
      "Iteration 747: Cost = 0.6562500000000001\n",
      "Iteration 750: Cost = 0.6562500000000001\n",
      "Iteration 753: Cost = 0.6562500000000001\n",
      "Iteration 756: Cost = 0.6562500000000001\n",
      "Iteration 759: Cost = 0.6562500000000001\n",
      "Iteration 762: Cost = 0.6562500000000001\n",
      "Iteration 765: Cost = 0.6640625000000001\n",
      "Iteration 768: Cost = 0.6562500000000001\n",
      "Iteration 771: Cost = 0.6640625000000001\n",
      "Iteration 774: Cost = 0.6562500000000001\n",
      "Iteration 777: Cost = 0.6640625000000001\n",
      "Iteration 780: Cost = 0.6640625000000001\n",
      "Iteration 783: Cost = 0.6484375000000001\n",
      "Iteration 786: Cost = 0.6406250000000001\n",
      "Iteration 789: Cost = 0.6406250000000001\n",
      "Iteration 792: Cost = 0.6250000000000001\n",
      "Iteration 795: Cost = 0.6250000000000001\n",
      "Iteration 798: Cost = 0.6562499999999999\n",
      "Iteration 801: Cost = 0.6562499999999999\n",
      "Iteration 804: Cost = 0.6562499999999999\n",
      "Iteration 807: Cost = 0.6562499999999999\n",
      "Iteration 810: Cost = 0.6718749999999999\n",
      "Iteration 813: Cost = 0.6562499999999999\n",
      "Iteration 816: Cost = 0.6484374999999999\n",
      "Iteration 819: Cost = 0.6484374999999999\n",
      "Iteration 822: Cost = 0.6484374999999999\n",
      "Iteration 825: Cost = 0.6640624999999999\n",
      "Iteration 828: Cost = 0.6718749999999999\n",
      "Iteration 831: Cost = 0.6640624999999999\n",
      "Iteration 834: Cost = 0.6640624999999999\n",
      "Iteration 837: Cost = 0.6562499999999999\n",
      "Iteration 840: Cost = 0.6484375\n",
      "Iteration 843: Cost = 0.6484375\n",
      "Iteration 846: Cost = 0.6484375\n",
      "Iteration 849: Cost = 0.6484375\n",
      "Iteration 852: Cost = 0.6484375\n",
      "Iteration 855: Cost = 0.6484375\n",
      "Iteration 858: Cost = 0.6328125\n",
      "Iteration 861: Cost = 0.6328125\n",
      "Iteration 864: Cost = 0.6015625\n",
      "Iteration 867: Cost = 0.6015625\n",
      "Iteration 870: Cost = 0.5859375\n",
      "Iteration 873: Cost = 0.6328125\n",
      "Iteration 876: Cost = 0.6171875\n",
      "Iteration 879: Cost = 0.6171875\n",
      "Iteration 882: Cost = 0.609375\n",
      "Iteration 885: Cost = 0.6171874999999999\n",
      "Iteration 888: Cost = 0.6328124999999999\n",
      "Iteration 891: Cost = 0.6249999999999999\n",
      "Iteration 894: Cost = 0.6249999999999999\n",
      "Iteration 897: Cost = 0.6093749999999999\n",
      "Iteration 900: Cost = 0.6093749999999999\n"
     ]
    }
   ],
   "source": [
    "from qiskit.algorithms.optimizers import SPSA\n",
    "\n",
    "spsa_loss = []\n",
    "def spsa_callback(nfevs, x, fx, stepsize, accepted):\n",
    "    spsa_loss.append(fx)\n",
    "    print(\"Iteration \" + str(nfevs) + \": Cost = \" + str(fx))\n",
    "    \n",
    "spsa = SPSA(maxiter=300, learning_rate=0.01, perturbation = 0.1, callback=spsa_callback)\n",
    "\n",
    "x_opt, fx, nfevs = spsa.optimize(parameters.size, h_costFunction, initial_point=parameters)"
   ]
  },
  {
   "cell_type": "code",
   "execution_count": 77,
   "id": "39236d38-2ef1-4dac-99f0-3c6346f4f532",
   "metadata": {},
   "outputs": [
    {
     "data": {
      "text/plain": [
       "[<matplotlib.lines.Line2D at 0x1f29a7cbb80>]"
      ]
     },
     "execution_count": 77,
     "metadata": {},
     "output_type": "execute_result"
    },
    {
     "data": {
      "image/png": "[encoded data removed]",
      "text/plain": [
       "<Figure size 432x288 with 1 Axes>"
      ]
     },
     "metadata": {
      "needs_background": "light"
     },
     "output_type": "display_data"
    }
   ],
   "source": [
    "plt.plot(spsa_loss)\n",
    "# plt.plot(gd_loss)"
   ]
  },
  {
   "cell_type": "code",
   "execution_count": 78,
   "id": "c51ae056-1560-46a7-87f1-acc334cb1bd8",
   "metadata": {},
   "outputs": [],
   "source": [
    "ansatz = RealAmplitudes(num_qubits=n_qubits, entanglement='full', reps=reps)\n",
    "# ansatz = TwoLocal(n_qubits, ['rx', 'ry'], 'cx', 'full', reps=reps, insert_barriers=True)\n",
    "# ansatz = TwoLocal(n_qubits, 'ry', 'cx', 'linear', reps=reps, insert_barriers=True)\n",
    "histograms = []\n",
    "param_circuit = paramCircuit(ansatz, x_opt)\n",
    "circuits = executeCircuits(initial_circuits, param_circuit)\n",
    "\n",
    "targets = [[0,0,1,1], [0,1,0,1], [1,0,1,0], [1,1,0,0]]\n",
    "target_statevectors, target_circuits, target_counts = targetCircuits(targets)\n",
    "\n",
    "for i, circuit in enumerate(circuits):\n",
    "    circuit.measure_all()\n",
    "    shots = 1024\n",
    "    qasm_simulator = Aer.get_backend('qasm_simulator')\n",
    "    result = execute(circuit, backend=qasm_simulator, shots=shots, seed_simulator = 3142, seed_transpiler = 3142).result().get_counts()\n",
    "    histograms.append(plot_histogram([result, target_counts[i]]))"
   ]
  },
  {
   "cell_type": "code",
   "execution_count": 84,
   "id": "bf7bcccd-ecea-4eb3-b903-6557e82829ba",
   "metadata": {},
   "outputs": [
    {
     "data": {
      "image/png": "[encoded data removed]",
      "text/plain": [
       "<Figure size 504x360 with 1 Axes>"
      ]
     },
     "execution_count": 84,
     "metadata": {},
     "output_type": "execute_result"
    }
   ],
   "source": [
    "histograms[2]"
   ]
  },
  {
   "cell_type": "markdown",
   "id": "80e1e66a-2c5e-41a8-bb1d-e52a9b108d4b",
   "metadata": {},
   "source": [
    "It is interesting to see that the circuit is converging to output state $\\ket{0110}$ regardless of the input state instead of converging to the target states. Improvements to this approach can be made in future work."
   ]
  },
  {
   "cell_type": "markdown",
   "id": "4906deb1-7130-4834-a0d9-8f6989eb1029",
   "metadata": {},
   "source": [
    "## Conclusion\n",
    "\n",
    "Section 1 showed a moderately successful solution to Task 2 using the simplified data driven approach. It is unclear whether to solution presented above reached a global minimum in the circuits parameter space but from the various trials, approaches and hyper parameter tuning that was experimented with the attempted ansatz, it does appear the global minimum of the ansatz were reached. Therefore, to improve performance in Section 1, different ansatz with more gates, repititions and entangling may be required in order to broaden the space and find more optimal parameters. Moreover, further work can be done to implement alternate optimizers such as simulated annealing or stochastic gradient descent to try to improve running time and convergence.\n",
    "\n",
    "Section 2 was not able to successfully solve the task and may require more fine tuning and debugging of the code. I believe the flaw stems from the non-standard cost function which was attempted. While most variational circuits minimize the hamiltonian observable of a particular circuit, this project attempted to take the difference between the hamiltonian observables of the output and target circuits to represent the cost function. The mathematics of how to operators commute will be investigated further to understand if this is a valid approach. Additionally, further work can be done to explore Qiskit's various gradient and optimizer features such as Quantum Natural Gradients."
   ]
  }
 ],
 "metadata": {
  "kernelspec": {
   "display_name": "Python 3",
   "language": "python",
   "name": "python3"
  },
  "language_info": {
   "codemirror_mode": {
    "name": "ipython",
    "version": 3
   },
   "file_extension": ".py",
   "mimetype": "text/x-python",
   "name": "python",
   "nbconvert_exporter": "python",
   "pygments_lexer": "ipython3",
   "version": "3.9.4"
  }
 },
 "nbformat": 4,
 "nbformat_minor": 5
}
